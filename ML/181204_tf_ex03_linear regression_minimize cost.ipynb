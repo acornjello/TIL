{
 "cells": [
  {
   "cell_type": "code",
   "execution_count": 5,
   "metadata": {},
   "outputs": [
    {
     "data": {
      "image/png": "[encoded data removed]",
      "text/plain": [
       "<Figure size 432x288 with 1 Axes>"
      ]
     },
     "metadata": {
      "needs_background": "light"
     },
     "output_type": "display_data"
    }
   ],
   "source": [
    "#simplified hypothesis (H(x) = W*x, cost(W))\n",
    "import tensorflow as tf\n",
    "import matplotlib.pyplot as plt\n",
    "X = [1, 2, 3]\n",
    "Y = [1, 2, 3]\n",
    "\n",
    "W = tf.placeholder(tf.float32)\n",
    "hypothesis = X * W\n",
    "\n",
    "cost = tf.reduce_mean(tf.square(hypothesis - Y))\n",
    "sess = tf.Session()\n",
    "sess.run(tf.global_variables_initializer())\n",
    "\n",
    "W_val=[]\n",
    "cost_val=[]\n",
    "for i in range(-30, 50):\n",
    "    feed_W = i*0.1\n",
    "    curr_cost, curr_W = sess.run([cost, W], feed_dict={W: feed_W})\n",
    "    W_val.append(curr_W)\n",
    "    cost_val.append(curr_cost)\n",
    "\n",
    "plt.plot(W_val, cost_val)\n",
    "plt.show()"
   ]
  },
  {
   "cell_type": "code",
   "execution_count": 7,
   "metadata": {},
   "outputs": [
    {
     "name": "stdout",
     "output_type": "stream",
     "text": [
      "0 7.5738235 [0.26448157]\n",
      "1 2.1543314 [0.60772353]\n",
      "2 0.61278737 [0.7907859]\n",
      "3 0.17430401 [0.88841915]\n",
      "4 0.04957975 [0.94049025]\n",
      "5 0.01410267 [0.9682615]\n",
      "6 0.004011407 [0.9830728]\n",
      "7 0.0011410197 [0.99097216]\n",
      "8 0.0003245607 [0.99518514]\n",
      "9 9.232e-05 [0.99743205]\n",
      "10 2.6262067e-05 [0.9986304]\n",
      "11 7.46964e-06 [0.99926955]\n",
      "12 2.124772e-06 [0.9996104]\n",
      "13 6.042772e-07 [0.9997922]\n",
      "14 1.7184895e-07 [0.9998892]\n",
      "15 4.8945367e-08 [0.9999409]\n",
      "16 1.3930009e-08 [0.99996847]\n",
      "17 3.9674006e-09 [0.9999832]\n",
      "18 1.1127241e-09 [0.99999106]\n",
      "19 3.1832315e-10 [0.99999523]\n",
      "20 9.10525e-11 [0.99999744]\n"
     ]
    }
   ],
   "source": [
    "x_data = [1, 2, 3]\n",
    "y_data = [1, 2, 3]\n",
    "\n",
    "W = tf.Variable(tf.random_normal([1], name='weight'))\n",
    "X = tf.placeholder(tf.float32)\n",
    "Y = tf.placeholder(tf.float32)\n",
    "\n",
    "hypothesis = X * W\n",
    "\n",
    "cost = tf.reduce_sum(tf.square(hypothesis - Y))\n",
    "\n",
    "# Minimize : W -= learning_rate * derivative\n",
    "learning_rate = 0.1\n",
    "gradient = tf.reduce_mean((W*X-Y)*X)\n",
    "descent = W - learning_rate * gradient\n",
    "update = W.assign(descent) ## update 실행하면 일련의 동작들이 실행됨\n",
    "\n",
    "# launch the graph\n",
    "sess = tf.Session()\n",
    "sess.run(tf.global_variables_initializer())\n",
    "for step in range(21):\n",
    "    sess.run(update, feed_dict={X: x_data, Y: y_data})\n",
    "    print(step, sess.run(cost, feed_dict={X: x_data, Y: y_data}), sess.run(W))"
   ]
  },
  {
   "cell_type": "code",
   "execution_count": null,
   "metadata": {},
   "outputs": [],
   "source": []
  }
 ],
 "metadata": {
  "kernelspec": {
   "display_name": "Python 3",
   "language": "python",
   "name": "python3"
  },
  "language_info": {
   "codemirror_mode": {
    "name": "ipython",
    "version": 3
   },
   "file_extension": ".py",
   "mimetype": "text/x-python",
   "name": "python",
   "nbconvert_exporter": "python",
   "pygments_lexer": "ipython3",
   "version": "3.6.7"
  }
 },
 "nbformat": 4,
 "nbformat_minor": 2
}
